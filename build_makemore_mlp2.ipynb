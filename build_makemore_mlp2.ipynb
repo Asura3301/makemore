{
  "nbformat": 4,
  "nbformat_minor": 0,
  "metadata": {
    "colab": {
      "provenance": [],
      "mount_file_id": "1lMU960GfHJ0j1cbH6nNNdrzzIGLqs7e_",
      "authorship_tag": "ABX9TyMY/0rdHETeTP5OqZP7mKB9",
      "include_colab_link": true
    },
    "kernelspec": {
      "name": "python3",
      "display_name": "Python 3"
    },
    "language_info": {
      "name": "python"
    }
  },
  "cells": [
    {
      "cell_type": "markdown",
      "metadata": {
        "id": "view-in-github",
        "colab_type": "text"
      },
      "source": [
        "<a href=\"https://colab.research.google.com/github/Asura3301/makemore/blob/main/build_makemore_mlp2.ipynb\" target=\"_parent\"><img src=\"https://colab.research.google.com/assets/colab-badge.svg\" alt=\"Open In Colab\"/></a>"
      ]
    },
    {
      "cell_type": "markdown",
      "source": [
        "Main reference paper - [\"Kaiming init\" paper | Delving Deep into Rectifiers](https://arxiv.org/pdf/1502.01852)"
      ],
      "metadata": {
        "id": "1wuPNDjblZlI"
      }
    },
    {
      "cell_type": "code",
      "execution_count": 18,
      "metadata": {
        "id": "rBfV1QzUP_VL"
      },
      "outputs": [],
      "source": [
        "import torch\n",
        "import torch.nn.functional as F\n",
        "import matplotlib.pyplot as plt\n",
        "%matplotlib inline"
      ]
    },
    {
      "cell_type": "code",
      "source": [
        "words = open(\"/content/drive/MyDrive/Colab Notebooks/Projects/makemore/names.txt\", \"r\").read().splitlines()\n",
        "words[:8]"
      ],
      "metadata": {
        "colab": {
          "base_uri": "https://localhost:8080/"
        },
        "id": "WO3jsWmWQOQA",
        "outputId": "c23dd06d-56ce-4ce1-e61a-2675ebb6f7cc"
      },
      "execution_count": 19,
      "outputs": [
        {
          "output_type": "execute_result",
          "data": {
            "text/plain": [
              "['emma', 'olivia', 'ava', 'isabella', 'sophia', 'charlotte', 'mia', 'amelia']"
            ]
          },
          "metadata": {},
          "execution_count": 19
        }
      ]
    },
    {
      "cell_type": "code",
      "source": [
        "len(words)"
      ],
      "metadata": {
        "colab": {
          "base_uri": "https://localhost:8080/"
        },
        "id": "DJ4MFiDhQVXX",
        "outputId": "469765ef-fb23-44d7-af88-2d8f98d12b57"
      },
      "execution_count": 20,
      "outputs": [
        {
          "output_type": "execute_result",
          "data": {
            "text/plain": [
              "32033"
            ]
          },
          "metadata": {},
          "execution_count": 20
        }
      ]
    },
    {
      "cell_type": "code",
      "source": [
        "# build the vocabulary of characters and mapping to/from integers\n",
        "chars = sorted(list(set(\"\".join(words))))\n",
        "stoi = {s:i+1 for i,s in enumerate(chars)}\n",
        "stoi[\".\"] = 0 # EOS/SOS\n",
        "itos = {i:s for s,i in stoi.items()}\n",
        "vocab_size = len(itos)\n",
        "print(itos)\n",
        "print(vocab_size)"
      ],
      "metadata": {
        "colab": {
          "base_uri": "https://localhost:8080/"
        },
        "id": "wkGS0PkrQWvd",
        "outputId": "192c6ab0-7006-442d-9937-6d5424be5e0e"
      },
      "execution_count": 21,
      "outputs": [
        {
          "output_type": "stream",
          "name": "stdout",
          "text": [
            "{1: 'a', 2: 'b', 3: 'c', 4: 'd', 5: 'e', 6: 'f', 7: 'g', 8: 'h', 9: 'i', 10: 'j', 11: 'k', 12: 'l', 13: 'm', 14: 'n', 15: 'o', 16: 'p', 17: 'q', 18: 'r', 19: 's', 20: 't', 21: 'u', 22: 'v', 23: 'w', 24: 'x', 25: 'y', 26: 'z', 0: '.'}\n",
            "27\n"
          ]
        }
      ]
    },
    {
      "cell_type": "code",
      "source": [
        "# build the dataset(train_test_split)\n",
        "block_size = 3 # context length:how many characters we take to predict next one?\n",
        "\n",
        "def build_dataset(words):\n",
        "  X, Y = [], []\n",
        "  for w in words:\n",
        "\n",
        "    # print(w)\n",
        "    context = [0] * block_size\n",
        "    for ch in w + \".\":\n",
        "      ix = stoi[ch]\n",
        "      X.append(context)\n",
        "      Y.append(ix)\n",
        "      # print(\"\".join(itos[i] for i in context), \"--->\", itos[ix])\n",
        "      context = context[1:] + [ix] # crop and append\n",
        "\n",
        "  X = torch.tensor(X)\n",
        "  Y = torch.tensor(Y)\n",
        "  print(X.shape, Y.shape)\n",
        "  return X, Y\n",
        "\n",
        "import random\n",
        "random.seed(42)\n",
        "random.shuffle(words)\n",
        "n1 = int(0.8*len(words))\n",
        "n2 = int(0.9*len(words))\n",
        "\n",
        "Xtr, Ytr = build_dataset(words[:n1])        # 80%\n",
        "Xval, Yval = build_dataset(words[n1:n2])    # 10%\n",
        "Xte, Yte = build_dataset(words[n2:])        # 10%"
      ],
      "metadata": {
        "colab": {
          "base_uri": "https://localhost:8080/"
        },
        "id": "SKDoTA9hQZ9U",
        "outputId": "8d111191-9562-48ff-a934-547bbc3baaaa"
      },
      "execution_count": 22,
      "outputs": [
        {
          "output_type": "stream",
          "name": "stdout",
          "text": [
            "torch.Size([182625, 3]) torch.Size([182625])\n",
            "torch.Size([22655, 3]) torch.Size([22655])\n",
            "torch.Size([22866, 3]) torch.Size([22866])\n"
          ]
        }
      ]
    },
    {
      "cell_type": "code",
      "source": [
        "# MLP\n",
        "n_embd = 10       # the dimensionality of the character embedding vectors\n",
        "n_hidden = 200    # the number of neurons in the hidden layer of MLP\n",
        "\n",
        "g = torch.Generator().manual_seed(42)\n",
        "C = torch.randn((vocab_size, n_embd),             generator=g)\n",
        "W1 = torch.randn((n_embd * block_size, n_hidden), generator=g) * (5/3)/((n_embd * block_size)**0.5) # std = gain / fan_mode**0.5 | we have tanh func -> gain = 5/3\n",
        "b1 = torch.randn(n_hidden,                        generator=g) * 0.01\n",
        "W2 = torch.randn((n_hidden, vocab_size),          generator=g) * 0.01\n",
        "b2 = torch.randn(vocab_size,                      generator=g) * 0\n",
        "\n",
        "parameters = [C, W1, b1, W2, b2]\n",
        "print(sum(p.nelement() for p in parameters)) # num of parameters in total\n",
        "\n",
        "for p in parameters:\n",
        "  p.requires_grad = True"
      ],
      "metadata": {
        "colab": {
          "base_uri": "https://localhost:8080/"
        },
        "id": "9HGm44YNQyHm",
        "outputId": "b9587623-ada4-4698-ed1d-e3fa4a664a51"
      },
      "execution_count": 70,
      "outputs": [
        {
          "output_type": "stream",
          "name": "stdout",
          "text": [
            "11897\n"
          ]
        }
      ]
    },
    {
      "cell_type": "code",
      "source": [
        "# approximate expected loss\n",
        "-torch.tensor(1/27.0).log()"
      ],
      "metadata": {
        "colab": {
          "base_uri": "https://localhost:8080/"
        },
        "id": "pcPjTesWim8A",
        "outputId": "364e5b97-618d-456a-cae4-1fb37fe20197"
      },
      "execution_count": 71,
      "outputs": [
        {
          "output_type": "execute_result",
          "data": {
            "text/plain": [
              "tensor(3.2958)"
            ]
          },
          "metadata": {},
          "execution_count": 71
        }
      ]
    },
    {
      "cell_type": "code",
      "source": [
        "x = torch.randn(1000, 10)\n",
        "w = torch.randn(10, 200) / 10**0.5\n",
        "y = x @ w\n",
        "print(x.mean(), x.std())\n",
        "print(y.mean(), y.std())\n",
        "plt.figure(figsize=(20, 5))\n",
        "plt.subplot(121)\n",
        "plt.hist(x.view(-1).tolist(), 50, density=True);\n",
        "plt.subplot(122)\n",
        "plt.hist(y.view(-1).tolist(), 50, density=True);"
      ],
      "metadata": {
        "colab": {
          "base_uri": "https://localhost:8080/",
          "height": 427
        },
        "id": "qO66CqjcjzQd",
        "outputId": "d60cf9e8-48b7-4950-b419-ace3e7b9639a"
      },
      "execution_count": 69,
      "outputs": [
        {
          "output_type": "stream",
          "name": "stdout",
          "text": [
            "tensor(0.0163) tensor(0.9904)\n",
            "tensor(0.0042) tensor(0.9765)\n"
          ]
        },
        {
          "output_type": "display_data",
          "data": {
            "text/plain": [
              "<Figure size 2000x500 with 2 Axes>"
            ],
            "image/png": "[encoded data removed]"
          },
          "metadata": {}
        }
      ]
    },
    {
      "cell_type": "code",
      "source": [
        "# optimization step\n",
        "max_steps = 200000\n",
        "batch_size = 32\n",
        "lossi = []\n",
        "\n",
        "for i in range(max_steps):\n",
        "\n",
        "  # minibatch construct\n",
        "  ix = torch.randint(0, Xtr.shape[0], (batch_size,), generator=g)\n",
        "  Xb, Yb = Xtr[ix], Ytr[ix] # batch X, Y\n",
        "\n",
        "  # forward pass\n",
        "  emb = C[Xb] # embedding of X\n",
        "  embcat = emb.view(emb.shape[0], -1) # concatenate the vectors\n",
        "  hpreact = embcat @ W1 + b1 # hidden layer pre-activation\n",
        "  h = torch.tanh(hpreact) # hidden layer\n",
        "  logits = h @ W2 + b2 # logits(output layer of nn)\n",
        "  loss = F.cross_entropy(logits, Yb) # loss function\n",
        "\n",
        "\n",
        "  # backward pass\n",
        "  for p in parameters:\n",
        "    p.grad = None\n",
        "  loss.backward()\n",
        "\n",
        "  # update\n",
        "  lr = 0.1 if i < 100000 else 0.01\n",
        "  for p in parameters:\n",
        "    p.data += -lr * p.grad\n",
        "\n",
        "  # track stats\n",
        "  if i % 10000 == 0:\n",
        "    print(f\"{i:7d}/{max_steps:7d}: {loss.item():.4f}\")\n",
        "  lossi.append(loss.log10().item())\n",
        "\n",
        "  # break"
      ],
      "metadata": {
        "colab": {
          "base_uri": "https://localhost:8080/"
        },
        "id": "SN7amgYSSTpk",
        "outputId": "625183f6-5c91-42ac-8b85-c407096feb9b"
      },
      "execution_count": 72,
      "outputs": [
        {
          "output_type": "stream",
          "name": "stdout",
          "text": [
            "      0/ 200000: 3.2956\n",
            "  10000/ 200000: 2.3607\n",
            "  20000/ 200000: 2.5141\n",
            "  30000/ 200000: 2.2044\n",
            "  40000/ 200000: 2.0599\n",
            "  50000/ 200000: 1.8871\n",
            "  60000/ 200000: 2.0569\n",
            "  70000/ 200000: 2.3450\n",
            "  80000/ 200000: 2.2624\n",
            "  90000/ 200000: 1.9780\n",
            " 100000/ 200000: 2.1673\n",
            " 110000/ 200000: 2.0812\n",
            " 120000/ 200000: 1.9038\n",
            " 130000/ 200000: 2.1975\n",
            " 140000/ 200000: 1.8419\n",
            " 150000/ 200000: 2.1179\n",
            " 160000/ 200000: 2.1798\n",
            " 170000/ 200000: 1.7877\n",
            " 180000/ 200000: 2.3487\n",
            " 190000/ 200000: 1.9413\n"
          ]
        }
      ]
    },
    {
      "cell_type": "code",
      "source": [
        "# fixing saturated neurons problem\n",
        "plt.figure(figsize=(20,10))\n",
        "plt.imshow(h.abs() > 0.99, cmap=\"gray\", interpolation=\"nearest\")"
      ],
      "metadata": {
        "colab": {
          "base_uri": "https://localhost:8080/",
          "height": 294
        },
        "id": "TS2IDOw9gbfN",
        "outputId": "8e0f9ecb-42f6-4c9a-fb65-411921d50f61"
      },
      "execution_count": 73,
      "outputs": [
        {
          "output_type": "execute_result",
          "data": {
            "text/plain": [
              "<matplotlib.image.AxesImage at 0x7955a8af6d90>"
            ]
          },
          "metadata": {},
          "execution_count": 73
        },
        {
          "output_type": "display_data",
          "data": {
            "text/plain": [
              "<Figure size 2000x1000 with 1 Axes>"
            ],
            "image/png": "[encoded data removed]"
          },
          "metadata": {}
        }
      ]
    },
    {
      "cell_type": "code",
      "source": [
        "plt.plot(lossi)"
      ],
      "metadata": {
        "colab": {
          "base_uri": "https://localhost:8080/",
          "height": 447
        },
        "id": "29EDROABVhmh",
        "outputId": "dabba0fa-0555-465d-a5da-d70a5854b8ae"
      },
      "execution_count": 74,
      "outputs": [
        {
          "output_type": "execute_result",
          "data": {
            "text/plain": [
              "[<matplotlib.lines.Line2D at 0x79566a6a0750>]"
            ]
          },
          "metadata": {},
          "execution_count": 74
        },
        {
          "output_type": "display_data",
          "data": {
            "text/plain": [
              "<Figure size 640x480 with 1 Axes>"
            ],
            "image/png": "[encoded data removed]"
          },
          "metadata": {}
        }
      ]
    },
    {
      "cell_type": "code",
      "source": [
        "# evaluation of optimization\n",
        "@torch.no_grad() # this decorator disables gradient tracking\n",
        "def split_loss(split):\n",
        "  x,y = {\n",
        "      \"train\": (Xtr, Ytr),\n",
        "      \"val\": (Xval, Yval),\n",
        "      \"test\": (Xte, Yte),\n",
        "  }[split]\n",
        "  emb = C[x] # (N, block_size, n_embd)\n",
        "  embcat = emb.view(emb.shape[0], -1) # concat into (N, block_size * n_embd)\n",
        "  h = torch.tanh(embcat @ W1 + b1) # (N, n_hidden)\n",
        "  logits = h @ W2 + b2 # (N, vocab_size)\n",
        "  loss = F.cross_entropy(logits, y) # loss function\n",
        "  print(split, loss.item())\n",
        "\n",
        "split_loss(\"train\")\n",
        "split_loss(\"val\")"
      ],
      "metadata": {
        "colab": {
          "base_uri": "https://localhost:8080/"
        },
        "id": "5Rpd32aBWDnz",
        "outputId": "d536ffc0-3310-43a9-ad0a-a2d6656e57aa"
      },
      "execution_count": 75,
      "outputs": [
        {
          "output_type": "stream",
          "name": "stdout",
          "text": [
            "train 2.0387990474700928\n",
            "val 2.1068685054779053\n"
          ]
        }
      ]
    },
    {
      "cell_type": "code",
      "source": [
        "# loss log\n",
        "\n",
        "# original:\n",
        "train = 2.13\n",
        "val = 2.17\n",
        "\n",
        "# fix softmax confidently wrong:\n",
        "train = 2.07\n",
        "val = 2.13\n",
        "\n",
        "# fix tanh layer too saturated an initialization\n",
        "train = 2.038249969482422\n",
        "val = 2.1049816608428955\n",
        "\n",
        "# fix init scale fo W1 to avoid changing of standard deviation, using kaiming_init\n",
        "train = 2.0387990474700928\n",
        "val = 2.1068685054779053"
      ],
      "metadata": {
        "id": "k8KewsP3h3w7"
      },
      "execution_count": null,
      "outputs": []
    },
    {
      "cell_type": "code",
      "source": [
        "# sample the model\n",
        "g = torch.Generator().manual_seed(42)\n",
        "\n",
        "for _ in range(20):\n",
        "\n",
        "  out = []\n",
        "  context = [0] * block_size # initialize\n",
        "  while True:\n",
        "    # forward pass of nn\n",
        "    emb = C[torch.tensor([context])] # (1,block_size,n_embd)\n",
        "    h = torch.tanh(emb.view(1, -1) @ W1 + b1)\n",
        "    logits = h @ W2 + b2\n",
        "    probs = F.softmax(logits, dim=1)\n",
        "\n",
        "    # sample from the distribution\n",
        "    ix = torch.multinomial(probs, num_samples=1, generator=g).item()\n",
        "\n",
        "    # shift the context window and track the samples\n",
        "    context = context[1:] + [ix]\n",
        "    out.append(ix)\n",
        "    # if we sample special \".\" eos/sos token, break\n",
        "    if ix == 0:\n",
        "      break\n",
        "\n",
        "  print(\"\".join(itos[i] for i in out)) # decode and print the generated word"
      ],
      "metadata": {
        "colab": {
          "base_uri": "https://localhost:8080/"
        },
        "id": "2fUubVDZXMRg",
        "outputId": "2ec283c8-a5ff-4568-9015-e34331ba87b5"
      },
      "execution_count": 76,
      "outputs": [
        {
          "output_type": "stream",
          "name": "stdout",
          "text": [
            "yeosyah.\n",
            "malin.\n",
            "dlee.\n",
            "khalei.\n",
            "jyantayvie.\n",
            "chel.\n",
            "emberlynn.\n",
            "ize.\n",
            "yukelea.\n",
            "lou.\n",
            "topheovani.\n",
            "pepoltyn.\n",
            "zakelsenalay.\n",
            "whina.\n",
            "luna.\n",
            "adari.\n",
            "zeriaqueen.\n",
            "kersemale.\n",
            "eiliony.\n",
            "rany.\n"
          ]
        }
      ]
    },
    {
      "cell_type": "code",
      "source": [],
      "metadata": {
        "id": "B0mKfdJtYjqZ"
      },
      "execution_count": null,
      "outputs": []
    }
  ]
}